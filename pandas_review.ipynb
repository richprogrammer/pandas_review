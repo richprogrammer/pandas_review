{
 "cells": [
  {
   "cell_type": "markdown",
   "metadata": {},
   "source": [
    "# Pandas Review Challenge"
   ]
  },
  {
   "cell_type": "markdown",
   "metadata": {},
   "source": [
    "Import `numpy as np`, `pandas as pd`, and check your pandas version."
   ]
  },
  {
   "cell_type": "code",
   "execution_count": 33,
   "metadata": {
    "execution": {
     "iopub.execute_input": "2023-05-17T19:54:45.581548Z",
     "iopub.status.busy": "2023-05-17T19:54:45.581045Z",
     "iopub.status.idle": "2023-05-17T19:54:45.588546Z",
     "shell.execute_reply": "2023-05-17T19:54:45.587311Z",
     "shell.execute_reply.started": "2023-05-17T19:54:45.581511Z"
    }
   },
   "outputs": [
    {
     "name": "stdout",
     "output_type": "stream",
     "text": [
      "1.5.3\n"
     ]
    }
   ],
   "source": [
    "import numpy as np \n",
    "import pandas as pd\n",
    "print(pd.__version__) # your version may be different\n",
    "\n",
    "# set display columns - Do not change or CodeGrade may not function correctly\n",
    "pd.set_option('display.max_columns', None)"
   ]
  },
  {
   "cell_type": "markdown",
   "metadata": {},
   "source": [
    "## Series"
   ]
  },
  {
   "cell_type": "markdown",
   "metadata": {},
   "source": [
    "**Q1:** Create a Pandas Series object called `Q1` from the following `arr` array."
   ]
  },
  {
   "cell_type": "code",
   "execution_count": 34,
   "metadata": {
    "execution": {
     "iopub.execute_input": "2023-05-17T19:54:45.591715Z",
     "iopub.status.busy": "2023-05-17T19:54:45.591211Z",
     "iopub.status.idle": "2023-05-17T19:54:45.603613Z",
     "shell.execute_reply": "2023-05-17T19:54:45.602763Z",
     "shell.execute_reply.started": "2023-05-17T19:54:45.591619Z"
    }
   },
   "outputs": [
    {
     "data": {
      "text/plain": [
       "0    4\n",
       "1    8\n",
       "2   -3\n",
       "3    1\n",
       "dtype: int64"
      ]
     },
     "execution_count": 34,
     "metadata": {},
     "output_type": "execute_result"
    }
   ],
   "source": [
    "arr = np.array([4,8,-3,1])\n",
    "\n",
    "Q1 = pd.Series(arr)\n",
    "Q1"
   ]
  },
  {
   "cell_type": "markdown",
   "metadata": {},
   "source": [
    "**Q2:** Create a Pandas Series object called `Q2` from the above `arr` array with an index of `a`, `b`, `c`, `d`."
   ]
  },
  {
   "cell_type": "code",
   "execution_count": 35,
   "metadata": {
    "execution": {
     "iopub.execute_input": "2023-05-17T19:54:45.605766Z",
     "iopub.status.busy": "2023-05-17T19:54:45.604695Z",
     "iopub.status.idle": "2023-05-17T19:54:45.618263Z",
     "shell.execute_reply": "2023-05-17T19:54:45.617018Z",
     "shell.execute_reply.started": "2023-05-17T19:54:45.605735Z"
    }
   },
   "outputs": [
    {
     "data": {
      "text/plain": [
       "a    4\n",
       "b    8\n",
       "c   -3\n",
       "d    1\n",
       "dtype: int64"
      ]
     },
     "execution_count": 35,
     "metadata": {},
     "output_type": "execute_result"
    }
   ],
   "source": [
    "Q2 = pd.Series(arr, index=['a','b','c','d'])\n",
    "Q2"
   ]
  },
  {
   "cell_type": "markdown",
   "metadata": {},
   "source": [
    "**Q3:** Index the `c` instance for the `Q2` Series and save it as `Q3`."
   ]
  },
  {
   "cell_type": "code",
   "execution_count": 36,
   "metadata": {
    "execution": {
     "iopub.execute_input": "2023-05-17T19:54:45.621219Z",
     "iopub.status.busy": "2023-05-17T19:54:45.620586Z",
     "iopub.status.idle": "2023-05-17T19:54:45.629815Z",
     "shell.execute_reply": "2023-05-17T19:54:45.628837Z",
     "shell.execute_reply.started": "2023-05-17T19:54:45.621186Z"
    }
   },
   "outputs": [
    {
     "data": {
      "text/plain": [
       "-3"
      ]
     },
     "execution_count": 36,
     "metadata": {},
     "output_type": "execute_result"
    }
   ],
   "source": [
    "Q3 = Q2['c']\n",
    "Q3"
   ]
  },
  {
   "cell_type": "markdown",
   "metadata": {},
   "source": [
    "**Q4:**  Make a copy of the `Q2` Series and call it `Q4`. Change the `c` instance in `Q4` to `0`."
   ]
  },
  {
   "cell_type": "code",
   "execution_count": 37,
   "metadata": {
    "execution": {
     "iopub.execute_input": "2023-05-17T19:54:45.631837Z",
     "iopub.status.busy": "2023-05-17T19:54:45.630982Z",
     "iopub.status.idle": "2023-05-17T19:54:45.642208Z",
     "shell.execute_reply": "2023-05-17T19:54:45.641470Z",
     "shell.execute_reply.started": "2023-05-17T19:54:45.631804Z"
    }
   },
   "outputs": [
    {
     "data": {
      "text/plain": [
       "a    4\n",
       "b    8\n",
       "c    0\n",
       "d    1\n",
       "dtype: int64"
      ]
     },
     "execution_count": 37,
     "metadata": {},
     "output_type": "execute_result"
    }
   ],
   "source": [
    "# make a copy\n",
    "Q4 = Q2.copy()\n",
    "\n",
    "Q4['c'] = 0\n",
    "Q4"
   ]
  },
  {
   "cell_type": "markdown",
   "metadata": {},
   "source": [
    "**Q5:** Filter all instances in `Q4` that are greater than `2` and save this as `Q5`."
   ]
  },
  {
   "cell_type": "code",
   "execution_count": 38,
   "metadata": {
    "execution": {
     "iopub.execute_input": "2023-05-17T19:54:45.644086Z",
     "iopub.status.busy": "2023-05-17T19:54:45.643352Z",
     "iopub.status.idle": "2023-05-17T19:54:45.654601Z",
     "shell.execute_reply": "2023-05-17T19:54:45.653691Z",
     "shell.execute_reply.started": "2023-05-17T19:54:45.644056Z"
    }
   },
   "outputs": [
    {
     "data": {
      "text/plain": [
       "a    4\n",
       "b    8\n",
       "dtype: int64"
      ]
     },
     "execution_count": 38,
     "metadata": {},
     "output_type": "execute_result"
    }
   ],
   "source": [
    "Q5 = Q4[Q4>2]\n",
    "Q5"
   ]
  },
  {
   "cell_type": "markdown",
   "metadata": {},
   "source": [
    "**Q6:** Using a Python dictionary, create the following as a Series called `Q6` using the state as the index.\n",
    "```\n",
    " Wyoming      581000\n",
    " Vermont      623000\n",
    " DC           714000\n",
    " Alaska       724000\n",
    " North Dakota 770000\n",
    "```"
   ]
  },
  {
   "cell_type": "code",
   "execution_count": 39,
   "metadata": {
    "execution": {
     "iopub.execute_input": "2023-05-17T19:54:45.656325Z",
     "iopub.status.busy": "2023-05-17T19:54:45.655835Z",
     "iopub.status.idle": "2023-05-17T19:54:45.668546Z",
     "shell.execute_reply": "2023-05-17T19:54:45.667357Z",
     "shell.execute_reply.started": "2023-05-17T19:54:45.656295Z"
    }
   },
   "outputs": [
    {
     "data": {
      "text/plain": [
       "Wyoming         581000\n",
       "Vermont         623000\n",
       "DC              714000\n",
       "Alaska          724000\n",
       "North Dakota    770000\n",
       "dtype: int64"
      ]
     },
     "execution_count": 39,
     "metadata": {},
     "output_type": "execute_result"
    }
   ],
   "source": [
    "states = {'Wyoming': 581000,'Vermont': 623000,'DC': 714000,\n",
    "          'Alaska': 724000,'North Dakota': 770000}\n",
    "\n",
    "Q6=pd.Series(states)\n",
    "Q6"
   ]
  },
  {
   "cell_type": "markdown",
   "metadata": {},
   "source": [
    "**Q7:** Create a Series called `Q7` using the `states` dictionary above. Use the list `states2` below as the index. Take a look at the new Series. What do you notice?"
   ]
  },
  {
   "cell_type": "code",
   "execution_count": 40,
   "metadata": {
    "execution": {
     "iopub.execute_input": "2023-05-17T19:54:45.670298Z",
     "iopub.status.busy": "2023-05-17T19:54:45.669791Z",
     "iopub.status.idle": "2023-05-17T19:54:45.686662Z",
     "shell.execute_reply": "2023-05-17T19:54:45.685671Z",
     "shell.execute_reply.started": "2023-05-17T19:54:45.670266Z"
    }
   },
   "outputs": [
    {
     "data": {
      "text/plain": [
       "Alaska          724000.0\n",
       "DC              714000.0\n",
       "North Dakota    770000.0\n",
       "South Dakota         NaN\n",
       "Wyoming         581000.0\n",
       "dtype: float64"
      ]
     },
     "execution_count": 40,
     "metadata": {},
     "output_type": "execute_result"
    }
   ],
   "source": [
    "states2 = ['Alaska','DC','North Dakota','South Dakota','Wyoming']\n",
    "Q7 = pd.Series(states,index=states2)\n",
    "Q7\n"
   ]
  },
  {
   "cell_type": "markdown",
   "metadata": {},
   "source": [
    "**Q8:** What do you think will happen if we add `Q6` and `Q7` together? Add the two Series together and call the new Series `Q8`. Did it do what you expected?"
   ]
  },
  {
   "cell_type": "code",
   "execution_count": 41,
   "metadata": {
    "execution": {
     "iopub.execute_input": "2023-05-17T19:54:45.689205Z",
     "iopub.status.busy": "2023-05-17T19:54:45.688206Z",
     "iopub.status.idle": "2023-05-17T19:54:45.698806Z",
     "shell.execute_reply": "2023-05-17T19:54:45.697861Z",
     "shell.execute_reply.started": "2023-05-17T19:54:45.689165Z"
    }
   },
   "outputs": [
    {
     "data": {
      "text/plain": [
       "Alaska          1448000.0\n",
       "DC              1428000.0\n",
       "North Dakota    1540000.0\n",
       "South Dakota          NaN\n",
       "Vermont               NaN\n",
       "Wyoming         1162000.0\n",
       "dtype: float64"
      ]
     },
     "execution_count": 41,
     "metadata": {},
     "output_type": "execute_result"
    }
   ],
   "source": [
    "Q8 = Q6 + Q7\n",
    "Q8"
   ]
  },
  {
   "cell_type": "markdown",
   "metadata": {},
   "source": [
    "**Q9:** Perform the following tasks:\n",
    "- make a copy of the `Q8` Series and call it `Q9` \n",
    "- Drop the null values from `Q9`. \n",
    "- Add a `name` attribute for the Series object as `population`. \n",
    "- Add a `name` attribute for the index as `state`."
   ]
  },
  {
   "cell_type": "code",
   "execution_count": 42,
   "metadata": {
    "execution": {
     "iopub.execute_input": "2023-05-17T19:54:45.702080Z",
     "iopub.status.busy": "2023-05-17T19:54:45.701540Z",
     "iopub.status.idle": "2023-05-17T19:54:45.711232Z",
     "shell.execute_reply": "2023-05-17T19:54:45.710234Z",
     "shell.execute_reply.started": "2023-05-17T19:54:45.702040Z"
    }
   },
   "outputs": [
    {
     "data": {
      "text/plain": [
       "state\n",
       "Alaska          1448000.0\n",
       "DC              1428000.0\n",
       "North Dakota    1540000.0\n",
       "Wyoming         1162000.0\n",
       "Name: population, dtype: float64"
      ]
     },
     "execution_count": 42,
     "metadata": {},
     "output_type": "execute_result"
    }
   ],
   "source": [
    "Q9 = Q8.copy()\n",
    "\n",
    "Q9 = Q9.dropna()\n",
    "Q9.name = 'population'\n",
    "Q9.index.name = 'state'\n",
    "Q9"
   ]
  },
  {
   "cell_type": "markdown",
   "metadata": {},
   "source": [
    "## DataFrame"
   ]
  },
  {
   "cell_type": "markdown",
   "metadata": {},
   "source": [
    "**Q10:** Using the below Python dictionary, create a DataFrame called `Q10`."
   ]
  },
  {
   "cell_type": "code",
   "execution_count": 43,
   "metadata": {
    "execution": {
     "iopub.execute_input": "2023-05-17T19:54:45.713452Z",
     "iopub.status.busy": "2023-05-17T19:54:45.712499Z",
     "iopub.status.idle": "2023-05-17T19:54:45.725655Z",
     "shell.execute_reply": "2023-05-17T19:54:45.724580Z",
     "shell.execute_reply.started": "2023-05-17T19:54:45.713417Z"
    }
   },
   "outputs": [
    {
     "data": {
      "text/html": [
       "<div>\n",
       "<style scoped>\n",
       "    .dataframe tbody tr th:only-of-type {\n",
       "        vertical-align: middle;\n",
       "    }\n",
       "\n",
       "    .dataframe tbody tr th {\n",
       "        vertical-align: top;\n",
       "    }\n",
       "\n",
       "    .dataframe thead th {\n",
       "        text-align: right;\n",
       "    }\n",
       "</style>\n",
       "<table border=\"1\" class=\"dataframe\">\n",
       "  <thead>\n",
       "    <tr style=\"text-align: right;\">\n",
       "      <th></th>\n",
       "      <th>book</th>\n",
       "      <th>year_published</th>\n",
       "      <th>amazon_rating</th>\n",
       "    </tr>\n",
       "  </thead>\n",
       "  <tbody>\n",
       "    <tr>\n",
       "      <th>0</th>\n",
       "      <td>The Way of Kings</td>\n",
       "      <td>2010</td>\n",
       "      <td>5.0</td>\n",
       "    </tr>\n",
       "    <tr>\n",
       "      <th>1</th>\n",
       "      <td>A Game of Thrones</td>\n",
       "      <td>1996</td>\n",
       "      <td>4.5</td>\n",
       "    </tr>\n",
       "    <tr>\n",
       "      <th>2</th>\n",
       "      <td>The Hobbit</td>\n",
       "      <td>1937</td>\n",
       "      <td>5.0</td>\n",
       "    </tr>\n",
       "    <tr>\n",
       "      <th>3</th>\n",
       "      <td>Harry Potter and the Sorcerer's Stone</td>\n",
       "      <td>1997</td>\n",
       "      <td>5.0</td>\n",
       "    </tr>\n",
       "    <tr>\n",
       "      <th>4</th>\n",
       "      <td>The Lion, the Witch, and the Wardrobe</td>\n",
       "      <td>1950</td>\n",
       "      <td>5.0</td>\n",
       "    </tr>\n",
       "  </tbody>\n",
       "</table>\n",
       "</div>"
      ],
      "text/plain": [
       "                                    book  year_published  amazon_rating\n",
       "0                       The Way of Kings            2010            5.0\n",
       "1                      A Game of Thrones            1996            4.5\n",
       "2                             The Hobbit            1937            5.0\n",
       "3  Harry Potter and the Sorcerer's Stone            1997            5.0\n",
       "4  The Lion, the Witch, and the Wardrobe            1950            5.0"
      ]
     },
     "execution_count": 43,
     "metadata": {},
     "output_type": "execute_result"
    }
   ],
   "source": [
    "# code will vary from student to student\n",
    "data = {'book':['The Way of Kings','A Game of Thrones','The Hobbit',\n",
    "                \"Harry Potter and the Sorcerer's Stone\",'The Lion, the Witch, and the Wardrobe'],\n",
    "        'year_published': [2010,1996,1937,1997,1950],\n",
    "        'amazon_rating': [5,4.5,5,5,5]}\n",
    "    \n",
    "Q10=pd.DataFrame(data)\n",
    "Q10"
   ]
  },
  {
   "cell_type": "markdown",
   "metadata": {},
   "source": [
    "**Q11:** Make a copy of the `Q10` DataFrame and call it `Q11`.  Add a fourth column called `copies_owned` and assign a scalar value of `1` to every row."
   ]
  },
  {
   "cell_type": "code",
   "execution_count": 44,
   "metadata": {
    "execution": {
     "iopub.execute_input": "2023-05-17T19:54:45.727499Z",
     "iopub.status.busy": "2023-05-17T19:54:45.726914Z",
     "iopub.status.idle": "2023-05-17T19:54:45.748197Z",
     "shell.execute_reply": "2023-05-17T19:54:45.747104Z",
     "shell.execute_reply.started": "2023-05-17T19:54:45.727469Z"
    }
   },
   "outputs": [
    {
     "data": {
      "text/html": [
       "<div>\n",
       "<style scoped>\n",
       "    .dataframe tbody tr th:only-of-type {\n",
       "        vertical-align: middle;\n",
       "    }\n",
       "\n",
       "    .dataframe tbody tr th {\n",
       "        vertical-align: top;\n",
       "    }\n",
       "\n",
       "    .dataframe thead th {\n",
       "        text-align: right;\n",
       "    }\n",
       "</style>\n",
       "<table border=\"1\" class=\"dataframe\">\n",
       "  <thead>\n",
       "    <tr style=\"text-align: right;\">\n",
       "      <th></th>\n",
       "      <th>book</th>\n",
       "      <th>year_published</th>\n",
       "      <th>amazon_rating</th>\n",
       "      <th>copies_owned</th>\n",
       "    </tr>\n",
       "  </thead>\n",
       "  <tbody>\n",
       "    <tr>\n",
       "      <th>0</th>\n",
       "      <td>The Way of Kings</td>\n",
       "      <td>2010</td>\n",
       "      <td>5.0</td>\n",
       "      <td>1</td>\n",
       "    </tr>\n",
       "    <tr>\n",
       "      <th>1</th>\n",
       "      <td>A Game of Thrones</td>\n",
       "      <td>1996</td>\n",
       "      <td>4.5</td>\n",
       "      <td>1</td>\n",
       "    </tr>\n",
       "    <tr>\n",
       "      <th>2</th>\n",
       "      <td>The Hobbit</td>\n",
       "      <td>1937</td>\n",
       "      <td>5.0</td>\n",
       "      <td>1</td>\n",
       "    </tr>\n",
       "    <tr>\n",
       "      <th>3</th>\n",
       "      <td>Harry Potter and the Sorcerer's Stone</td>\n",
       "      <td>1997</td>\n",
       "      <td>5.0</td>\n",
       "      <td>1</td>\n",
       "    </tr>\n",
       "    <tr>\n",
       "      <th>4</th>\n",
       "      <td>The Lion, the Witch, and the Wardrobe</td>\n",
       "      <td>1950</td>\n",
       "      <td>5.0</td>\n",
       "      <td>1</td>\n",
       "    </tr>\n",
       "  </tbody>\n",
       "</table>\n",
       "</div>"
      ],
      "text/plain": [
       "                                    book  year_published  amazon_rating  \\\n",
       "0                       The Way of Kings            2010            5.0   \n",
       "1                      A Game of Thrones            1996            4.5   \n",
       "2                             The Hobbit            1937            5.0   \n",
       "3  Harry Potter and the Sorcerer's Stone            1997            5.0   \n",
       "4  The Lion, the Witch, and the Wardrobe            1950            5.0   \n",
       "\n",
       "   copies_owned  \n",
       "0             1  \n",
       "1             1  \n",
       "2             1  \n",
       "3             1  \n",
       "4             1  "
      ]
     },
     "execution_count": 44,
     "metadata": {},
     "output_type": "execute_result"
    }
   ],
   "source": [
    "Q11 = Q10.copy()\n",
    "\n",
    "Q11['copies_owned']=1\n",
    "Q11"
   ]
  },
  {
   "cell_type": "markdown",
   "metadata": {},
   "source": [
    "**Q12:** Make a copy of `Q11` and call it `Q12`. Remove the fourth column called `copies_owned` for the `Q12` DataFrame. "
   ]
  },
  {
   "cell_type": "code",
   "execution_count": 45,
   "metadata": {
    "execution": {
     "iopub.execute_input": "2023-05-17T19:54:45.749995Z",
     "iopub.status.busy": "2023-05-17T19:54:45.749622Z",
     "iopub.status.idle": "2023-05-17T19:54:45.765111Z",
     "shell.execute_reply": "2023-05-17T19:54:45.764004Z",
     "shell.execute_reply.started": "2023-05-17T19:54:45.749965Z"
    }
   },
   "outputs": [
    {
     "data": {
      "text/html": [
       "<div>\n",
       "<style scoped>\n",
       "    .dataframe tbody tr th:only-of-type {\n",
       "        vertical-align: middle;\n",
       "    }\n",
       "\n",
       "    .dataframe tbody tr th {\n",
       "        vertical-align: top;\n",
       "    }\n",
       "\n",
       "    .dataframe thead th {\n",
       "        text-align: right;\n",
       "    }\n",
       "</style>\n",
       "<table border=\"1\" class=\"dataframe\">\n",
       "  <thead>\n",
       "    <tr style=\"text-align: right;\">\n",
       "      <th></th>\n",
       "      <th>book</th>\n",
       "      <th>year_published</th>\n",
       "      <th>amazon_rating</th>\n",
       "    </tr>\n",
       "  </thead>\n",
       "  <tbody>\n",
       "    <tr>\n",
       "      <th>0</th>\n",
       "      <td>The Way of Kings</td>\n",
       "      <td>2010</td>\n",
       "      <td>5.0</td>\n",
       "    </tr>\n",
       "    <tr>\n",
       "      <th>1</th>\n",
       "      <td>A Game of Thrones</td>\n",
       "      <td>1996</td>\n",
       "      <td>4.5</td>\n",
       "    </tr>\n",
       "    <tr>\n",
       "      <th>2</th>\n",
       "      <td>The Hobbit</td>\n",
       "      <td>1937</td>\n",
       "      <td>5.0</td>\n",
       "    </tr>\n",
       "    <tr>\n",
       "      <th>3</th>\n",
       "      <td>Harry Potter and the Sorcerer's Stone</td>\n",
       "      <td>1997</td>\n",
       "      <td>5.0</td>\n",
       "    </tr>\n",
       "    <tr>\n",
       "      <th>4</th>\n",
       "      <td>The Lion, the Witch, and the Wardrobe</td>\n",
       "      <td>1950</td>\n",
       "      <td>5.0</td>\n",
       "    </tr>\n",
       "  </tbody>\n",
       "</table>\n",
       "</div>"
      ],
      "text/plain": [
       "                                    book  year_published  amazon_rating\n",
       "0                       The Way of Kings            2010            5.0\n",
       "1                      A Game of Thrones            1996            4.5\n",
       "2                             The Hobbit            1937            5.0\n",
       "3  Harry Potter and the Sorcerer's Stone            1997            5.0\n",
       "4  The Lion, the Witch, and the Wardrobe            1950            5.0"
      ]
     },
     "execution_count": 45,
     "metadata": {},
     "output_type": "execute_result"
    }
   ],
   "source": [
    "Q12 = Q11.copy()\n",
    "\n",
    "del Q12['copies_owned'] #can also use the \"drop\" method\n",
    "Q12"
   ]
  },
  {
   "cell_type": "markdown",
   "metadata": {},
   "source": [
    "**Q13:** Create a DataFrame called `Q13` using the below nested dictionary of dictionaries. (Note: outer keys are interpreted as columns, inner keys as row indices)"
   ]
  },
  {
   "cell_type": "code",
   "execution_count": 46,
   "metadata": {
    "execution": {
     "iopub.execute_input": "2023-05-17T19:54:45.767361Z",
     "iopub.status.busy": "2023-05-17T19:54:45.766814Z",
     "iopub.status.idle": "2023-05-17T19:54:45.779034Z",
     "shell.execute_reply": "2023-05-17T19:54:45.777940Z",
     "shell.execute_reply.started": "2023-05-17T19:54:45.767333Z"
    }
   },
   "outputs": [
    {
     "data": {
      "text/html": [
       "<div>\n",
       "<style scoped>\n",
       "    .dataframe tbody tr th:only-of-type {\n",
       "        vertical-align: middle;\n",
       "    }\n",
       "\n",
       "    .dataframe tbody tr th {\n",
       "        vertical-align: top;\n",
       "    }\n",
       "\n",
       "    .dataframe thead th {\n",
       "        text-align: right;\n",
       "    }\n",
       "</style>\n",
       "<table border=\"1\" class=\"dataframe\">\n",
       "  <thead>\n",
       "    <tr style=\"text-align: right;\">\n",
       "      <th></th>\n",
       "      <th>Nevada</th>\n",
       "      <th>Ohio</th>\n",
       "    </tr>\n",
       "  </thead>\n",
       "  <tbody>\n",
       "    <tr>\n",
       "      <th>2001</th>\n",
       "      <td>2.4</td>\n",
       "      <td>1.7</td>\n",
       "    </tr>\n",
       "    <tr>\n",
       "      <th>2002</th>\n",
       "      <td>2.9</td>\n",
       "      <td>3.6</td>\n",
       "    </tr>\n",
       "    <tr>\n",
       "      <th>2000</th>\n",
       "      <td>NaN</td>\n",
       "      <td>1.5</td>\n",
       "    </tr>\n",
       "  </tbody>\n",
       "</table>\n",
       "</div>"
      ],
      "text/plain": [
       "      Nevada  Ohio\n",
       "2001     2.4   1.7\n",
       "2002     2.9   3.6\n",
       "2000     NaN   1.5"
      ]
     },
     "execution_count": 46,
     "metadata": {},
     "output_type": "execute_result"
    }
   ],
   "source": [
    "pop = {'Nevada':{2001: 2.4, 2002: 2.9},\n",
    "      'Ohio': {2000:1.5, 2001: 1.7, 2002: 3.6}}\n",
    "\n",
    "Q13 = pd.DataFrame(pop)\n",
    "Q13"
   ]
  },
  {
   "cell_type": "markdown",
   "metadata": {},
   "source": [
    "**Q14:** Swap the columns and rows of `Q13` by using the transpose method `.T` and save this as `Q14`."
   ]
  },
  {
   "cell_type": "code",
   "execution_count": 47,
   "metadata": {
    "execution": {
     "iopub.execute_input": "2023-05-17T19:54:45.780965Z",
     "iopub.status.busy": "2023-05-17T19:54:45.780594Z",
     "iopub.status.idle": "2023-05-17T19:54:45.794413Z",
     "shell.execute_reply": "2023-05-17T19:54:45.793614Z",
     "shell.execute_reply.started": "2023-05-17T19:54:45.780936Z"
    }
   },
   "outputs": [
    {
     "data": {
      "text/html": [
       "<div>\n",
       "<style scoped>\n",
       "    .dataframe tbody tr th:only-of-type {\n",
       "        vertical-align: middle;\n",
       "    }\n",
       "\n",
       "    .dataframe tbody tr th {\n",
       "        vertical-align: top;\n",
       "    }\n",
       "\n",
       "    .dataframe thead th {\n",
       "        text-align: right;\n",
       "    }\n",
       "</style>\n",
       "<table border=\"1\" class=\"dataframe\">\n",
       "  <thead>\n",
       "    <tr style=\"text-align: right;\">\n",
       "      <th></th>\n",
       "      <th>2001</th>\n",
       "      <th>2002</th>\n",
       "      <th>2000</th>\n",
       "    </tr>\n",
       "  </thead>\n",
       "  <tbody>\n",
       "    <tr>\n",
       "      <th>Nevada</th>\n",
       "      <td>2.4</td>\n",
       "      <td>2.9</td>\n",
       "      <td>NaN</td>\n",
       "    </tr>\n",
       "    <tr>\n",
       "      <th>Ohio</th>\n",
       "      <td>1.7</td>\n",
       "      <td>3.6</td>\n",
       "      <td>1.5</td>\n",
       "    </tr>\n",
       "  </tbody>\n",
       "</table>\n",
       "</div>"
      ],
      "text/plain": [
       "        2001  2002  2000\n",
       "Nevada   2.4   2.9   NaN\n",
       "Ohio     1.7   3.6   1.5"
      ]
     },
     "execution_count": 47,
     "metadata": {},
     "output_type": "execute_result"
    }
   ],
   "source": [
    "Q14 = Q13.T\n",
    "Q14"
   ]
  },
  {
   "cell_type": "markdown",
   "metadata": {},
   "source": [
    "**Q15:** Change the columns in the `Q14` DataFrame to be in year order (earlier to later) and save this as `Q15`."
   ]
  },
  {
   "cell_type": "code",
   "execution_count": 48,
   "metadata": {
    "execution": {
     "iopub.execute_input": "2023-05-17T19:54:45.796352Z",
     "iopub.status.busy": "2023-05-17T19:54:45.795846Z",
     "iopub.status.idle": "2023-05-17T19:54:45.807793Z",
     "shell.execute_reply": "2023-05-17T19:54:45.806630Z",
     "shell.execute_reply.started": "2023-05-17T19:54:45.796321Z"
    }
   },
   "outputs": [
    {
     "data": {
      "text/html": [
       "<div>\n",
       "<style scoped>\n",
       "    .dataframe tbody tr th:only-of-type {\n",
       "        vertical-align: middle;\n",
       "    }\n",
       "\n",
       "    .dataframe tbody tr th {\n",
       "        vertical-align: top;\n",
       "    }\n",
       "\n",
       "    .dataframe thead th {\n",
       "        text-align: right;\n",
       "    }\n",
       "</style>\n",
       "<table border=\"1\" class=\"dataframe\">\n",
       "  <thead>\n",
       "    <tr style=\"text-align: right;\">\n",
       "      <th></th>\n",
       "      <th>2000</th>\n",
       "      <th>2001</th>\n",
       "      <th>2002</th>\n",
       "    </tr>\n",
       "  </thead>\n",
       "  <tbody>\n",
       "    <tr>\n",
       "      <th>Nevada</th>\n",
       "      <td>NaN</td>\n",
       "      <td>2.4</td>\n",
       "      <td>2.9</td>\n",
       "    </tr>\n",
       "    <tr>\n",
       "      <th>Ohio</th>\n",
       "      <td>1.5</td>\n",
       "      <td>1.7</td>\n",
       "      <td>3.6</td>\n",
       "    </tr>\n",
       "  </tbody>\n",
       "</table>\n",
       "</div>"
      ],
      "text/plain": [
       "        2000  2001  2002\n",
       "Nevada   NaN   2.4   2.9\n",
       "Ohio     1.5   1.7   3.6"
      ]
     },
     "execution_count": 48,
     "metadata": {},
     "output_type": "execute_result"
    }
   ],
   "source": [
    "Q15=Q14.reindex(columns=[2000,2001,2002]) #can also use df2.loc[:,[2000,2001,2002]]\n",
    "Q15"
   ]
  },
  {
   "cell_type": "markdown",
   "metadata": {},
   "source": [
    "**Q16:** Index only `Nevada` in the `Q15` DataFrame and save this as `Q16`."
   ]
  },
  {
   "cell_type": "code",
   "execution_count": 49,
   "metadata": {
    "execution": {
     "iopub.execute_input": "2023-05-17T19:54:45.811810Z",
     "iopub.status.busy": "2023-05-17T19:54:45.811454Z",
     "iopub.status.idle": "2023-05-17T19:54:45.819262Z",
     "shell.execute_reply": "2023-05-17T19:54:45.818568Z",
     "shell.execute_reply.started": "2023-05-17T19:54:45.811779Z"
    }
   },
   "outputs": [
    {
     "data": {
      "text/plain": [
       "2000    NaN\n",
       "2001    2.4\n",
       "2002    2.9\n",
       "Name: Nevada, dtype: float64"
      ]
     },
     "execution_count": 49,
     "metadata": {},
     "output_type": "execute_result"
    }
   ],
   "source": [
    "Q16=Q15.loc['Nevada']\n",
    "Q16"
   ]
  },
  {
   "cell_type": "markdown",
   "metadata": {},
   "source": [
    "**Q17:** Select the `2001` column from the `Q15` DataFrame and save this as `Q17`. "
   ]
  },
  {
   "cell_type": "code",
   "execution_count": 50,
   "metadata": {
    "execution": {
     "iopub.execute_input": "2023-05-17T19:54:45.823812Z",
     "iopub.status.busy": "2023-05-17T19:54:45.820513Z",
     "iopub.status.idle": "2023-05-17T19:54:45.832717Z",
     "shell.execute_reply": "2023-05-17T19:54:45.831659Z",
     "shell.execute_reply.started": "2023-05-17T19:54:45.823769Z"
    }
   },
   "outputs": [
    {
     "data": {
      "text/plain": [
       "Nevada    2.4\n",
       "Ohio      1.7\n",
       "Name: 2001, dtype: float64"
      ]
     },
     "execution_count": 50,
     "metadata": {},
     "output_type": "execute_result"
    }
   ],
   "source": [
    "Q17=Q15[2001]\n",
    "Q17"
   ]
  },
  {
   "cell_type": "markdown",
   "metadata": {},
   "source": [
    "**Q18:**  Select the `Ohio` row and the `2001` and `2002` columns from `Q15` and save this as `Q18`."
   ]
  },
  {
   "cell_type": "code",
   "execution_count": 51,
   "metadata": {
    "execution": {
     "iopub.execute_input": "2023-05-17T19:54:45.835099Z",
     "iopub.status.busy": "2023-05-17T19:54:45.834334Z",
     "iopub.status.idle": "2023-05-17T19:54:45.846552Z",
     "shell.execute_reply": "2023-05-17T19:54:45.845287Z",
     "shell.execute_reply.started": "2023-05-17T19:54:45.835050Z"
    }
   },
   "outputs": [
    {
     "data": {
      "text/plain": [
       "2001    1.7\n",
       "2002    3.6\n",
       "Name: Ohio, dtype: float64"
      ]
     },
     "execution_count": 51,
     "metadata": {},
     "output_type": "execute_result"
    }
   ],
   "source": [
    "Q18 = Q15.loc['Ohio',[2001,2002]]   #Q15.iloc[1,[1,2]]\n",
    "Q18"
   ]
  },
  {
   "cell_type": "markdown",
   "metadata": {},
   "source": [
    "**Q19:** Load the `employees` DataFrame. Filter only the employees that make above $90,000 and save this as `Q19`."
   ]
  },
  {
   "cell_type": "code",
   "execution_count": 52,
   "metadata": {
    "execution": {
     "iopub.execute_input": "2023-05-17T19:54:45.848481Z",
     "iopub.status.busy": "2023-05-17T19:54:45.848097Z",
     "iopub.status.idle": "2023-05-17T19:54:45.863695Z",
     "shell.execute_reply": "2023-05-17T19:54:45.862605Z",
     "shell.execute_reply.started": "2023-05-17T19:54:45.848450Z"
    }
   },
   "outputs": [
    {
     "data": {
      "text/html": [
       "<div>\n",
       "<style scoped>\n",
       "    .dataframe tbody tr th:only-of-type {\n",
       "        vertical-align: middle;\n",
       "    }\n",
       "\n",
       "    .dataframe tbody tr th {\n",
       "        vertical-align: top;\n",
       "    }\n",
       "\n",
       "    .dataframe thead th {\n",
       "        text-align: right;\n",
       "    }\n",
       "</style>\n",
       "<table border=\"1\" class=\"dataframe\">\n",
       "  <thead>\n",
       "    <tr style=\"text-align: right;\">\n",
       "      <th></th>\n",
       "      <th>name</th>\n",
       "      <th>age</th>\n",
       "      <th>gender</th>\n",
       "      <th>profession</th>\n",
       "      <th>salary</th>\n",
       "    </tr>\n",
       "  </thead>\n",
       "  <tbody>\n",
       "    <tr>\n",
       "      <th>0</th>\n",
       "      <td>John</td>\n",
       "      <td>25</td>\n",
       "      <td>M</td>\n",
       "      <td>Developer</td>\n",
       "      <td>100000</td>\n",
       "    </tr>\n",
       "    <tr>\n",
       "      <th>1</th>\n",
       "      <td>Jane</td>\n",
       "      <td>27</td>\n",
       "      <td>F</td>\n",
       "      <td>Analyst</td>\n",
       "      <td>80000</td>\n",
       "    </tr>\n",
       "    <tr>\n",
       "      <th>2</th>\n",
       "      <td>Billy</td>\n",
       "      <td>42</td>\n",
       "      <td>M</td>\n",
       "      <td>Admin</td>\n",
       "      <td>75000</td>\n",
       "    </tr>\n",
       "    <tr>\n",
       "      <th>3</th>\n",
       "      <td>Tracy</td>\n",
       "      <td>31</td>\n",
       "      <td>F</td>\n",
       "      <td>Data Scientist</td>\n",
       "      <td>110000</td>\n",
       "    </tr>\n",
       "  </tbody>\n",
       "</table>\n",
       "</div>"
      ],
      "text/plain": [
       "    name  age gender      profession  salary\n",
       "0   John   25      M       Developer  100000\n",
       "1   Jane   27      F         Analyst   80000\n",
       "2  Billy   42      M           Admin   75000\n",
       "3  Tracy   31      F  Data Scientist  110000"
      ]
     },
     "execution_count": 52,
     "metadata": {},
     "output_type": "execute_result"
    }
   ],
   "source": [
    "table =  {'name': ['John', 'Jane', 'Billy', 'Tracy'],\n",
    "         'age': [25, 27, 42, 31],\n",
    "          'gender': ['M','F','M','F'],\n",
    "         'profession': ['Developer', 'Analyst', 'Admin', 'Data Scientist'],\n",
    "         'salary':[100000, 80000, 75000, 110000]\n",
    "         }\n",
    "\n",
    "employees = pd.DataFrame(table)\n",
    "employees"
   ]
  },
  {
   "cell_type": "code",
   "execution_count": 53,
   "metadata": {
    "execution": {
     "iopub.execute_input": "2023-05-17T19:54:45.865688Z",
     "iopub.status.busy": "2023-05-17T19:54:45.865228Z",
     "iopub.status.idle": "2023-05-17T19:54:45.878177Z",
     "shell.execute_reply": "2023-05-17T19:54:45.877080Z",
     "shell.execute_reply.started": "2023-05-17T19:54:45.865648Z"
    }
   },
   "outputs": [
    {
     "data": {
      "text/html": [
       "<div>\n",
       "<style scoped>\n",
       "    .dataframe tbody tr th:only-of-type {\n",
       "        vertical-align: middle;\n",
       "    }\n",
       "\n",
       "    .dataframe tbody tr th {\n",
       "        vertical-align: top;\n",
       "    }\n",
       "\n",
       "    .dataframe thead th {\n",
       "        text-align: right;\n",
       "    }\n",
       "</style>\n",
       "<table border=\"1\" class=\"dataframe\">\n",
       "  <thead>\n",
       "    <tr style=\"text-align: right;\">\n",
       "      <th></th>\n",
       "      <th>name</th>\n",
       "      <th>age</th>\n",
       "      <th>gender</th>\n",
       "      <th>profession</th>\n",
       "      <th>salary</th>\n",
       "    </tr>\n",
       "  </thead>\n",
       "  <tbody>\n",
       "    <tr>\n",
       "      <th>0</th>\n",
       "      <td>John</td>\n",
       "      <td>25</td>\n",
       "      <td>M</td>\n",
       "      <td>Developer</td>\n",
       "      <td>100000</td>\n",
       "    </tr>\n",
       "    <tr>\n",
       "      <th>3</th>\n",
       "      <td>Tracy</td>\n",
       "      <td>31</td>\n",
       "      <td>F</td>\n",
       "      <td>Data Scientist</td>\n",
       "      <td>110000</td>\n",
       "    </tr>\n",
       "  </tbody>\n",
       "</table>\n",
       "</div>"
      ],
      "text/plain": [
       "    name  age gender      profession  salary\n",
       "0   John   25      M       Developer  100000\n",
       "3  Tracy   31      F  Data Scientist  110000"
      ]
     },
     "execution_count": 53,
     "metadata": {},
     "output_type": "execute_result"
    }
   ],
   "source": [
    "Q19 = employees[employees['salary']>90000]\n",
    "Q19"
   ]
  },
  {
   "cell_type": "markdown",
   "metadata": {},
   "source": [
    "**Q20:** Select only the names of the employees that make under $90,000 and save this as `Q20`."
   ]
  },
  {
   "cell_type": "code",
   "execution_count": 54,
   "metadata": {
    "execution": {
     "iopub.execute_input": "2023-05-17T19:54:45.880604Z",
     "iopub.status.busy": "2023-05-17T19:54:45.879563Z",
     "iopub.status.idle": "2023-05-17T19:54:45.890146Z",
     "shell.execute_reply": "2023-05-17T19:54:45.889135Z",
     "shell.execute_reply.started": "2023-05-17T19:54:45.880561Z"
    }
   },
   "outputs": [
    {
     "data": {
      "text/plain": [
       "1     Jane\n",
       "2    Billy\n",
       "Name: name, dtype: object"
      ]
     },
     "execution_count": 54,
     "metadata": {},
     "output_type": "execute_result"
    }
   ],
   "source": [
    "Q20 = employees[employees['salary']<90000]['name']\n",
    "Q20"
   ]
  },
  {
   "cell_type": "markdown",
   "metadata": {},
   "source": [
    "**Q21:** Select only the names of the employees that make under $90,000 and are over 30 years old.  Save this as `Q21`."
   ]
  },
  {
   "cell_type": "code",
   "execution_count": 55,
   "metadata": {
    "execution": {
     "iopub.execute_input": "2023-05-17T19:54:45.891936Z",
     "iopub.status.busy": "2023-05-17T19:54:45.891529Z",
     "iopub.status.idle": "2023-05-17T19:54:45.905171Z",
     "shell.execute_reply": "2023-05-17T19:54:45.903975Z",
     "shell.execute_reply.started": "2023-05-17T19:54:45.891897Z"
    }
   },
   "outputs": [
    {
     "data": {
      "text/plain": [
       "2    Billy\n",
       "Name: name, dtype: object"
      ]
     },
     "execution_count": 55,
     "metadata": {},
     "output_type": "execute_result"
    }
   ],
   "source": [
    "Q21 = employees[(employees['salary']<90000) & (employees['age']>30)]['name']\n",
    "Q21 "
   ]
  },
  {
   "cell_type": "markdown",
   "metadata": {},
   "source": [
    "**Q22:** Our company has grown, and we have hired three new employees. Create a new DataFrame called `Q22` that adds these employees (`new_hires`) to the original DataFrame `employees`. Make sure that the index for the new DataFrame is labeled as `0` - `n-1`."
   ]
  },
  {
   "cell_type": "code",
   "execution_count": 56,
   "metadata": {
    "execution": {
     "iopub.execute_input": "2023-05-17T19:54:45.907281Z",
     "iopub.status.busy": "2023-05-17T19:54:45.906931Z",
     "iopub.status.idle": "2023-05-17T19:54:45.923749Z",
     "shell.execute_reply": "2023-05-17T19:54:45.922653Z",
     "shell.execute_reply.started": "2023-05-17T19:54:45.907254Z"
    }
   },
   "outputs": [
    {
     "data": {
      "text/html": [
       "<div>\n",
       "<style scoped>\n",
       "    .dataframe tbody tr th:only-of-type {\n",
       "        vertical-align: middle;\n",
       "    }\n",
       "\n",
       "    .dataframe tbody tr th {\n",
       "        vertical-align: top;\n",
       "    }\n",
       "\n",
       "    .dataframe thead th {\n",
       "        text-align: right;\n",
       "    }\n",
       "</style>\n",
       "<table border=\"1\" class=\"dataframe\">\n",
       "  <thead>\n",
       "    <tr style=\"text-align: right;\">\n",
       "      <th></th>\n",
       "      <th>name</th>\n",
       "      <th>age</th>\n",
       "      <th>gender</th>\n",
       "      <th>profession</th>\n",
       "      <th>salary</th>\n",
       "    </tr>\n",
       "  </thead>\n",
       "  <tbody>\n",
       "    <tr>\n",
       "      <th>0</th>\n",
       "      <td>John</td>\n",
       "      <td>25.0</td>\n",
       "      <td>M</td>\n",
       "      <td>Developer</td>\n",
       "      <td>100000.0</td>\n",
       "    </tr>\n",
       "    <tr>\n",
       "      <th>1</th>\n",
       "      <td>Jane</td>\n",
       "      <td>27.0</td>\n",
       "      <td>F</td>\n",
       "      <td>Analyst</td>\n",
       "      <td>80000.0</td>\n",
       "    </tr>\n",
       "    <tr>\n",
       "      <th>2</th>\n",
       "      <td>Billy</td>\n",
       "      <td>42.0</td>\n",
       "      <td>M</td>\n",
       "      <td>Admin</td>\n",
       "      <td>75000.0</td>\n",
       "    </tr>\n",
       "    <tr>\n",
       "      <th>3</th>\n",
       "      <td>Tracy</td>\n",
       "      <td>31.0</td>\n",
       "      <td>F</td>\n",
       "      <td>Data Scientist</td>\n",
       "      <td>110000.0</td>\n",
       "    </tr>\n",
       "    <tr>\n",
       "      <th>4</th>\n",
       "      <td>Emily</td>\n",
       "      <td>22.0</td>\n",
       "      <td>F</td>\n",
       "      <td>Project Manager</td>\n",
       "      <td>NaN</td>\n",
       "    </tr>\n",
       "    <tr>\n",
       "      <th>5</th>\n",
       "      <td>Lukas</td>\n",
       "      <td>NaN</td>\n",
       "      <td>M</td>\n",
       "      <td>ML Engineer</td>\n",
       "      <td>135000.0</td>\n",
       "    </tr>\n",
       "    <tr>\n",
       "      <th>6</th>\n",
       "      <td>Janelle</td>\n",
       "      <td>52.0</td>\n",
       "      <td>F</td>\n",
       "      <td>CIO</td>\n",
       "      <td>230000.0</td>\n",
       "    </tr>\n",
       "  </tbody>\n",
       "</table>\n",
       "</div>"
      ],
      "text/plain": [
       "      name   age gender       profession    salary\n",
       "0     John  25.0      M        Developer  100000.0\n",
       "1     Jane  27.0      F          Analyst   80000.0\n",
       "2    Billy  42.0      M            Admin   75000.0\n",
       "3    Tracy  31.0      F   Data Scientist  110000.0\n",
       "4    Emily  22.0      F  Project Manager       NaN\n",
       "5    Lukas   NaN      M      ML Engineer  135000.0\n",
       "6  Janelle  52.0      F              CIO  230000.0"
      ]
     },
     "execution_count": 56,
     "metadata": {},
     "output_type": "execute_result"
    }
   ],
   "source": [
    "new_hires = {'name': ['Emily','Lukas','Janelle'],\n",
    "            'age': [22, np.nan, 52],\n",
    "             'gender': ['F','M','F'],\n",
    "            'profession': ['Project Manager','ML Engineer','CIO'],\n",
    "            'salary': [np.nan,135000,230000]}\n",
    "\n",
    "Q22 = pd.concat([employees, pd.DataFrame(new_hires)],ignore_index=True)\n",
    "Q22"
   ]
  },
  {
   "cell_type": "markdown",
   "metadata": {},
   "source": [
    "**Q23:**  Create a copy of `Q22` and save it as `Q23`.  Drop all rows that contain missing values from the `Q23` DataFrame."
   ]
  },
  {
   "cell_type": "code",
   "execution_count": 57,
   "metadata": {
    "execution": {
     "iopub.execute_input": "2023-05-17T19:54:45.926781Z",
     "iopub.status.busy": "2023-05-17T19:54:45.925569Z",
     "iopub.status.idle": "2023-05-17T19:54:45.941210Z",
     "shell.execute_reply": "2023-05-17T19:54:45.940307Z",
     "shell.execute_reply.started": "2023-05-17T19:54:45.926740Z"
    }
   },
   "outputs": [
    {
     "data": {
      "text/html": [
       "<div>\n",
       "<style scoped>\n",
       "    .dataframe tbody tr th:only-of-type {\n",
       "        vertical-align: middle;\n",
       "    }\n",
       "\n",
       "    .dataframe tbody tr th {\n",
       "        vertical-align: top;\n",
       "    }\n",
       "\n",
       "    .dataframe thead th {\n",
       "        text-align: right;\n",
       "    }\n",
       "</style>\n",
       "<table border=\"1\" class=\"dataframe\">\n",
       "  <thead>\n",
       "    <tr style=\"text-align: right;\">\n",
       "      <th></th>\n",
       "      <th>name</th>\n",
       "      <th>age</th>\n",
       "      <th>gender</th>\n",
       "      <th>profession</th>\n",
       "      <th>salary</th>\n",
       "    </tr>\n",
       "  </thead>\n",
       "  <tbody>\n",
       "    <tr>\n",
       "      <th>0</th>\n",
       "      <td>John</td>\n",
       "      <td>25.0</td>\n",
       "      <td>M</td>\n",
       "      <td>Developer</td>\n",
       "      <td>100000.0</td>\n",
       "    </tr>\n",
       "    <tr>\n",
       "      <th>1</th>\n",
       "      <td>Jane</td>\n",
       "      <td>27.0</td>\n",
       "      <td>F</td>\n",
       "      <td>Analyst</td>\n",
       "      <td>80000.0</td>\n",
       "    </tr>\n",
       "    <tr>\n",
       "      <th>2</th>\n",
       "      <td>Billy</td>\n",
       "      <td>42.0</td>\n",
       "      <td>M</td>\n",
       "      <td>Admin</td>\n",
       "      <td>75000.0</td>\n",
       "    </tr>\n",
       "    <tr>\n",
       "      <th>3</th>\n",
       "      <td>Tracy</td>\n",
       "      <td>31.0</td>\n",
       "      <td>F</td>\n",
       "      <td>Data Scientist</td>\n",
       "      <td>110000.0</td>\n",
       "    </tr>\n",
       "    <tr>\n",
       "      <th>6</th>\n",
       "      <td>Janelle</td>\n",
       "      <td>52.0</td>\n",
       "      <td>F</td>\n",
       "      <td>CIO</td>\n",
       "      <td>230000.0</td>\n",
       "    </tr>\n",
       "  </tbody>\n",
       "</table>\n",
       "</div>"
      ],
      "text/plain": [
       "      name   age gender      profession    salary\n",
       "0     John  25.0      M       Developer  100000.0\n",
       "1     Jane  27.0      F         Analyst   80000.0\n",
       "2    Billy  42.0      M           Admin   75000.0\n",
       "3    Tracy  31.0      F  Data Scientist  110000.0\n",
       "6  Janelle  52.0      F             CIO  230000.0"
      ]
     },
     "execution_count": 57,
     "metadata": {},
     "output_type": "execute_result"
    }
   ],
   "source": [
    "Q23 = Q22.copy()\n",
    "Q23 = Q23.dropna()\n",
    "Q23\n",
    "\n",
    "### ENTER CODE HERE ###"
   ]
  },
  {
   "cell_type": "markdown",
   "metadata": {},
   "source": [
    "**Q24:** Make a copy of the `Q22` DataFrame and save it as `Q24`.  Add a new column called `departments` to the `Q24` DataFrame using the list below."
   ]
  },
  {
   "cell_type": "code",
   "execution_count": 58,
   "metadata": {
    "execution": {
     "iopub.execute_input": "2023-05-17T19:54:45.943095Z",
     "iopub.status.busy": "2023-05-17T19:54:45.942739Z",
     "iopub.status.idle": "2023-05-17T19:54:45.963378Z",
     "shell.execute_reply": "2023-05-17T19:54:45.962485Z",
     "shell.execute_reply.started": "2023-05-17T19:54:45.943064Z"
    }
   },
   "outputs": [
    {
     "data": {
      "text/html": [
       "<div>\n",
       "<style scoped>\n",
       "    .dataframe tbody tr th:only-of-type {\n",
       "        vertical-align: middle;\n",
       "    }\n",
       "\n",
       "    .dataframe tbody tr th {\n",
       "        vertical-align: top;\n",
       "    }\n",
       "\n",
       "    .dataframe thead th {\n",
       "        text-align: right;\n",
       "    }\n",
       "</style>\n",
       "<table border=\"1\" class=\"dataframe\">\n",
       "  <thead>\n",
       "    <tr style=\"text-align: right;\">\n",
       "      <th></th>\n",
       "      <th>name</th>\n",
       "      <th>age</th>\n",
       "      <th>gender</th>\n",
       "      <th>profession</th>\n",
       "      <th>salary</th>\n",
       "      <th>departments</th>\n",
       "    </tr>\n",
       "  </thead>\n",
       "  <tbody>\n",
       "    <tr>\n",
       "      <th>0</th>\n",
       "      <td>John</td>\n",
       "      <td>25.0</td>\n",
       "      <td>M</td>\n",
       "      <td>Developer</td>\n",
       "      <td>100000.0</td>\n",
       "      <td>IT</td>\n",
       "    </tr>\n",
       "    <tr>\n",
       "      <th>1</th>\n",
       "      <td>Jane</td>\n",
       "      <td>27.0</td>\n",
       "      <td>F</td>\n",
       "      <td>Analyst</td>\n",
       "      <td>80000.0</td>\n",
       "      <td>IT</td>\n",
       "    </tr>\n",
       "    <tr>\n",
       "      <th>2</th>\n",
       "      <td>Billy</td>\n",
       "      <td>42.0</td>\n",
       "      <td>M</td>\n",
       "      <td>Admin</td>\n",
       "      <td>75000.0</td>\n",
       "      <td>Administration</td>\n",
       "    </tr>\n",
       "    <tr>\n",
       "      <th>3</th>\n",
       "      <td>Tracy</td>\n",
       "      <td>31.0</td>\n",
       "      <td>F</td>\n",
       "      <td>Data Scientist</td>\n",
       "      <td>110000.0</td>\n",
       "      <td>IT</td>\n",
       "    </tr>\n",
       "    <tr>\n",
       "      <th>4</th>\n",
       "      <td>Emily</td>\n",
       "      <td>22.0</td>\n",
       "      <td>F</td>\n",
       "      <td>Project Manager</td>\n",
       "      <td>NaN</td>\n",
       "      <td>Communications</td>\n",
       "    </tr>\n",
       "    <tr>\n",
       "      <th>5</th>\n",
       "      <td>Lukas</td>\n",
       "      <td>NaN</td>\n",
       "      <td>M</td>\n",
       "      <td>ML Engineer</td>\n",
       "      <td>135000.0</td>\n",
       "      <td>IT</td>\n",
       "    </tr>\n",
       "    <tr>\n",
       "      <th>6</th>\n",
       "      <td>Janelle</td>\n",
       "      <td>52.0</td>\n",
       "      <td>F</td>\n",
       "      <td>CIO</td>\n",
       "      <td>230000.0</td>\n",
       "      <td>Executive</td>\n",
       "    </tr>\n",
       "  </tbody>\n",
       "</table>\n",
       "</div>"
      ],
      "text/plain": [
       "      name   age gender       profession    salary     departments\n",
       "0     John  25.0      M        Developer  100000.0              IT\n",
       "1     Jane  27.0      F          Analyst   80000.0              IT\n",
       "2    Billy  42.0      M            Admin   75000.0  Administration\n",
       "3    Tracy  31.0      F   Data Scientist  110000.0              IT\n",
       "4    Emily  22.0      F  Project Manager       NaN  Communications\n",
       "5    Lukas   NaN      M      ML Engineer  135000.0              IT\n",
       "6  Janelle  52.0      F              CIO  230000.0       Executive"
      ]
     },
     "execution_count": 58,
     "metadata": {},
     "output_type": "execute_result"
    }
   ],
   "source": [
    "departments = ['IT','IT','Administration','IT','Communications','IT','Executive']\n",
    "\n",
    "Q24 = Q22.copy()\n",
    "\n",
    "Q24['departments'] = departments\n",
    "Q24"
   ]
  },
  {
   "cell_type": "markdown",
   "metadata": {},
   "source": [
    "**Q25:** Make a copy of the `Q24` DataFrame and save it as `Q25`.  You heard back from HR that Emily's salary should equal the employee with the lowest salary. Fill this missing value in `Q25` with the minimum salary (use `fillna()` and `min()` instead of hard coding the salary)."
   ]
  },
  {
   "cell_type": "code",
   "execution_count": 59,
   "metadata": {
    "execution": {
     "iopub.execute_input": "2023-05-17T19:54:45.965140Z",
     "iopub.status.busy": "2023-05-17T19:54:45.964646Z",
     "iopub.status.idle": "2023-05-17T19:54:45.980960Z",
     "shell.execute_reply": "2023-05-17T19:54:45.979906Z",
     "shell.execute_reply.started": "2023-05-17T19:54:45.965111Z"
    }
   },
   "outputs": [
    {
     "data": {
      "text/html": [
       "<div>\n",
       "<style scoped>\n",
       "    .dataframe tbody tr th:only-of-type {\n",
       "        vertical-align: middle;\n",
       "    }\n",
       "\n",
       "    .dataframe tbody tr th {\n",
       "        vertical-align: top;\n",
       "    }\n",
       "\n",
       "    .dataframe thead th {\n",
       "        text-align: right;\n",
       "    }\n",
       "</style>\n",
       "<table border=\"1\" class=\"dataframe\">\n",
       "  <thead>\n",
       "    <tr style=\"text-align: right;\">\n",
       "      <th></th>\n",
       "      <th>name</th>\n",
       "      <th>age</th>\n",
       "      <th>gender</th>\n",
       "      <th>profession</th>\n",
       "      <th>salary</th>\n",
       "      <th>departments</th>\n",
       "    </tr>\n",
       "  </thead>\n",
       "  <tbody>\n",
       "    <tr>\n",
       "      <th>0</th>\n",
       "      <td>John</td>\n",
       "      <td>25.0</td>\n",
       "      <td>M</td>\n",
       "      <td>Developer</td>\n",
       "      <td>100000.0</td>\n",
       "      <td>IT</td>\n",
       "    </tr>\n",
       "    <tr>\n",
       "      <th>1</th>\n",
       "      <td>Jane</td>\n",
       "      <td>27.0</td>\n",
       "      <td>F</td>\n",
       "      <td>Analyst</td>\n",
       "      <td>80000.0</td>\n",
       "      <td>IT</td>\n",
       "    </tr>\n",
       "    <tr>\n",
       "      <th>2</th>\n",
       "      <td>Billy</td>\n",
       "      <td>42.0</td>\n",
       "      <td>M</td>\n",
       "      <td>Admin</td>\n",
       "      <td>75000.0</td>\n",
       "      <td>Administration</td>\n",
       "    </tr>\n",
       "    <tr>\n",
       "      <th>3</th>\n",
       "      <td>Tracy</td>\n",
       "      <td>31.0</td>\n",
       "      <td>F</td>\n",
       "      <td>Data Scientist</td>\n",
       "      <td>110000.0</td>\n",
       "      <td>IT</td>\n",
       "    </tr>\n",
       "    <tr>\n",
       "      <th>4</th>\n",
       "      <td>Emily</td>\n",
       "      <td>22.0</td>\n",
       "      <td>F</td>\n",
       "      <td>Project Manager</td>\n",
       "      <td>75000.0</td>\n",
       "      <td>Communications</td>\n",
       "    </tr>\n",
       "    <tr>\n",
       "      <th>5</th>\n",
       "      <td>Lukas</td>\n",
       "      <td>NaN</td>\n",
       "      <td>M</td>\n",
       "      <td>ML Engineer</td>\n",
       "      <td>135000.0</td>\n",
       "      <td>IT</td>\n",
       "    </tr>\n",
       "    <tr>\n",
       "      <th>6</th>\n",
       "      <td>Janelle</td>\n",
       "      <td>52.0</td>\n",
       "      <td>F</td>\n",
       "      <td>CIO</td>\n",
       "      <td>230000.0</td>\n",
       "      <td>Executive</td>\n",
       "    </tr>\n",
       "  </tbody>\n",
       "</table>\n",
       "</div>"
      ],
      "text/plain": [
       "      name   age gender       profession    salary     departments\n",
       "0     John  25.0      M        Developer  100000.0              IT\n",
       "1     Jane  27.0      F          Analyst   80000.0              IT\n",
       "2    Billy  42.0      M            Admin   75000.0  Administration\n",
       "3    Tracy  31.0      F   Data Scientist  110000.0              IT\n",
       "4    Emily  22.0      F  Project Manager   75000.0  Communications\n",
       "5    Lukas   NaN      M      ML Engineer  135000.0              IT\n",
       "6  Janelle  52.0      F              CIO  230000.0       Executive"
      ]
     },
     "execution_count": 59,
     "metadata": {},
     "output_type": "execute_result"
    }
   ],
   "source": [
    "Q25 = Q24.copy()\n",
    "\n",
    "Q25['salary'] = Q25['salary'].fillna((Q25['salary'].min()))\n",
    "#Q25['salary'].fillna((Q25['salary'].min()),inplace=True)\n",
    "Q25"
   ]
  },
  {
   "cell_type": "markdown",
   "metadata": {},
   "source": [
    "**Q26:** Make a copy of `Q25` and save it as `Q26`.  Add Lukas' age of `54` to the `Q26` DataFrame."
   ]
  },
  {
   "cell_type": "code",
   "execution_count": 65,
   "metadata": {
    "execution": {
     "iopub.execute_input": "2023-05-17T19:55:48.116165Z",
     "iopub.status.busy": "2023-05-17T19:55:48.115657Z",
     "iopub.status.idle": "2023-05-17T19:55:48.132443Z",
     "shell.execute_reply": "2023-05-17T19:55:48.131397Z",
     "shell.execute_reply.started": "2023-05-17T19:55:48.116129Z"
    }
   },
   "outputs": [
    {
     "data": {
      "text/html": [
       "<div>\n",
       "<style scoped>\n",
       "    .dataframe tbody tr th:only-of-type {\n",
       "        vertical-align: middle;\n",
       "    }\n",
       "\n",
       "    .dataframe tbody tr th {\n",
       "        vertical-align: top;\n",
       "    }\n",
       "\n",
       "    .dataframe thead th {\n",
       "        text-align: right;\n",
       "    }\n",
       "</style>\n",
       "<table border=\"1\" class=\"dataframe\">\n",
       "  <thead>\n",
       "    <tr style=\"text-align: right;\">\n",
       "      <th></th>\n",
       "      <th>name</th>\n",
       "      <th>age</th>\n",
       "      <th>gender</th>\n",
       "      <th>profession</th>\n",
       "      <th>salary</th>\n",
       "      <th>departments</th>\n",
       "    </tr>\n",
       "  </thead>\n",
       "  <tbody>\n",
       "    <tr>\n",
       "      <th>0</th>\n",
       "      <td>John</td>\n",
       "      <td>25.0</td>\n",
       "      <td>M</td>\n",
       "      <td>Developer</td>\n",
       "      <td>100000.0</td>\n",
       "      <td>IT</td>\n",
       "    </tr>\n",
       "    <tr>\n",
       "      <th>1</th>\n",
       "      <td>Jane</td>\n",
       "      <td>27.0</td>\n",
       "      <td>F</td>\n",
       "      <td>Analyst</td>\n",
       "      <td>80000.0</td>\n",
       "      <td>IT</td>\n",
       "    </tr>\n",
       "    <tr>\n",
       "      <th>2</th>\n",
       "      <td>Billy</td>\n",
       "      <td>42.0</td>\n",
       "      <td>M</td>\n",
       "      <td>Admin</td>\n",
       "      <td>75000.0</td>\n",
       "      <td>Administration</td>\n",
       "    </tr>\n",
       "    <tr>\n",
       "      <th>3</th>\n",
       "      <td>Tracy</td>\n",
       "      <td>31.0</td>\n",
       "      <td>F</td>\n",
       "      <td>Data Scientist</td>\n",
       "      <td>110000.0</td>\n",
       "      <td>IT</td>\n",
       "    </tr>\n",
       "    <tr>\n",
       "      <th>4</th>\n",
       "      <td>Emily</td>\n",
       "      <td>22.0</td>\n",
       "      <td>F</td>\n",
       "      <td>Project Manager</td>\n",
       "      <td>75000.0</td>\n",
       "      <td>Communications</td>\n",
       "    </tr>\n",
       "    <tr>\n",
       "      <th>5</th>\n",
       "      <td>Lukas</td>\n",
       "      <td>54.0</td>\n",
       "      <td>M</td>\n",
       "      <td>ML Engineer</td>\n",
       "      <td>135000.0</td>\n",
       "      <td>IT</td>\n",
       "    </tr>\n",
       "    <tr>\n",
       "      <th>6</th>\n",
       "      <td>Janelle</td>\n",
       "      <td>52.0</td>\n",
       "      <td>F</td>\n",
       "      <td>CIO</td>\n",
       "      <td>230000.0</td>\n",
       "      <td>Executive</td>\n",
       "    </tr>\n",
       "  </tbody>\n",
       "</table>\n",
       "</div>"
      ],
      "text/plain": [
       "      name   age gender       profession    salary     departments\n",
       "0     John  25.0      M        Developer  100000.0              IT\n",
       "1     Jane  27.0      F          Analyst   80000.0              IT\n",
       "2    Billy  42.0      M            Admin   75000.0  Administration\n",
       "3    Tracy  31.0      F   Data Scientist  110000.0              IT\n",
       "4    Emily  22.0      F  Project Manager   75000.0  Communications\n",
       "5    Lukas  54.0      M      ML Engineer  135000.0              IT\n",
       "6  Janelle  52.0      F              CIO  230000.0       Executive"
      ]
     },
     "execution_count": 65,
     "metadata": {},
     "output_type": "execute_result"
    }
   ],
   "source": [
    "Q26 = Q25.copy()\n",
    "\n",
    "#Q26[Q26['name'] == 'Lukas']['age']=54\n",
    "Q26.loc[Q26['name'] == 'Lukas','age']=54\n",
    "Q26"
   ]
  },
  {
   "cell_type": "markdown",
   "metadata": {},
   "source": [
    "**Q27:** Sort the `Q26` DataFrame by the `age` column from youngest to oldest employee and save this as `Q27`."
   ]
  },
  {
   "cell_type": "code",
   "execution_count": 66,
   "metadata": {
    "execution": {
     "iopub.execute_input": "2023-05-17T20:04:44.677919Z",
     "iopub.status.busy": "2023-05-17T20:04:44.677306Z",
     "iopub.status.idle": "2023-05-17T20:04:44.693901Z",
     "shell.execute_reply": "2023-05-17T20:04:44.692782Z",
     "shell.execute_reply.started": "2023-05-17T20:04:44.677874Z"
    }
   },
   "outputs": [
    {
     "data": {
      "text/html": [
       "<div>\n",
       "<style scoped>\n",
       "    .dataframe tbody tr th:only-of-type {\n",
       "        vertical-align: middle;\n",
       "    }\n",
       "\n",
       "    .dataframe tbody tr th {\n",
       "        vertical-align: top;\n",
       "    }\n",
       "\n",
       "    .dataframe thead th {\n",
       "        text-align: right;\n",
       "    }\n",
       "</style>\n",
       "<table border=\"1\" class=\"dataframe\">\n",
       "  <thead>\n",
       "    <tr style=\"text-align: right;\">\n",
       "      <th></th>\n",
       "      <th>name</th>\n",
       "      <th>age</th>\n",
       "      <th>gender</th>\n",
       "      <th>profession</th>\n",
       "      <th>salary</th>\n",
       "      <th>departments</th>\n",
       "    </tr>\n",
       "  </thead>\n",
       "  <tbody>\n",
       "    <tr>\n",
       "      <th>4</th>\n",
       "      <td>Emily</td>\n",
       "      <td>22.0</td>\n",
       "      <td>F</td>\n",
       "      <td>Project Manager</td>\n",
       "      <td>75000.0</td>\n",
       "      <td>Communications</td>\n",
       "    </tr>\n",
       "    <tr>\n",
       "      <th>0</th>\n",
       "      <td>John</td>\n",
       "      <td>25.0</td>\n",
       "      <td>M</td>\n",
       "      <td>Developer</td>\n",
       "      <td>100000.0</td>\n",
       "      <td>IT</td>\n",
       "    </tr>\n",
       "    <tr>\n",
       "      <th>1</th>\n",
       "      <td>Jane</td>\n",
       "      <td>27.0</td>\n",
       "      <td>F</td>\n",
       "      <td>Analyst</td>\n",
       "      <td>80000.0</td>\n",
       "      <td>IT</td>\n",
       "    </tr>\n",
       "    <tr>\n",
       "      <th>3</th>\n",
       "      <td>Tracy</td>\n",
       "      <td>31.0</td>\n",
       "      <td>F</td>\n",
       "      <td>Data Scientist</td>\n",
       "      <td>110000.0</td>\n",
       "      <td>IT</td>\n",
       "    </tr>\n",
       "    <tr>\n",
       "      <th>2</th>\n",
       "      <td>Billy</td>\n",
       "      <td>42.0</td>\n",
       "      <td>M</td>\n",
       "      <td>Admin</td>\n",
       "      <td>75000.0</td>\n",
       "      <td>Administration</td>\n",
       "    </tr>\n",
       "    <tr>\n",
       "      <th>6</th>\n",
       "      <td>Janelle</td>\n",
       "      <td>52.0</td>\n",
       "      <td>F</td>\n",
       "      <td>CIO</td>\n",
       "      <td>230000.0</td>\n",
       "      <td>Executive</td>\n",
       "    </tr>\n",
       "    <tr>\n",
       "      <th>5</th>\n",
       "      <td>Lukas</td>\n",
       "      <td>54.0</td>\n",
       "      <td>M</td>\n",
       "      <td>ML Engineer</td>\n",
       "      <td>135000.0</td>\n",
       "      <td>IT</td>\n",
       "    </tr>\n",
       "  </tbody>\n",
       "</table>\n",
       "</div>"
      ],
      "text/plain": [
       "      name   age gender       profession    salary     departments\n",
       "4    Emily  22.0      F  Project Manager   75000.0  Communications\n",
       "0     John  25.0      M        Developer  100000.0              IT\n",
       "1     Jane  27.0      F          Analyst   80000.0              IT\n",
       "3    Tracy  31.0      F   Data Scientist  110000.0              IT\n",
       "2    Billy  42.0      M            Admin   75000.0  Administration\n",
       "6  Janelle  52.0      F              CIO  230000.0       Executive\n",
       "5    Lukas  54.0      M      ML Engineer  135000.0              IT"
      ]
     },
     "execution_count": 66,
     "metadata": {},
     "output_type": "execute_result"
    }
   ],
   "source": [
    "Q27 = Q26.sort_values(by='age')\n",
    "Q27"
   ]
  },
  {
   "cell_type": "markdown",
   "metadata": {},
   "source": [
    "**Q28:** Sort the `Q26` DataFrame in descending order by `salary` and save this as `Q28`."
   ]
  },
  {
   "cell_type": "code",
   "execution_count": 67,
   "metadata": {
    "execution": {
     "iopub.execute_input": "2023-05-17T20:05:50.063768Z",
     "iopub.status.busy": "2023-05-17T20:05:50.063255Z",
     "iopub.status.idle": "2023-05-17T20:05:50.079433Z",
     "shell.execute_reply": "2023-05-17T20:05:50.078452Z",
     "shell.execute_reply.started": "2023-05-17T20:05:50.063727Z"
    }
   },
   "outputs": [
    {
     "data": {
      "text/html": [
       "<div>\n",
       "<style scoped>\n",
       "    .dataframe tbody tr th:only-of-type {\n",
       "        vertical-align: middle;\n",
       "    }\n",
       "\n",
       "    .dataframe tbody tr th {\n",
       "        vertical-align: top;\n",
       "    }\n",
       "\n",
       "    .dataframe thead th {\n",
       "        text-align: right;\n",
       "    }\n",
       "</style>\n",
       "<table border=\"1\" class=\"dataframe\">\n",
       "  <thead>\n",
       "    <tr style=\"text-align: right;\">\n",
       "      <th></th>\n",
       "      <th>name</th>\n",
       "      <th>age</th>\n",
       "      <th>gender</th>\n",
       "      <th>profession</th>\n",
       "      <th>salary</th>\n",
       "      <th>departments</th>\n",
       "    </tr>\n",
       "  </thead>\n",
       "  <tbody>\n",
       "    <tr>\n",
       "      <th>6</th>\n",
       "      <td>Janelle</td>\n",
       "      <td>52.0</td>\n",
       "      <td>F</td>\n",
       "      <td>CIO</td>\n",
       "      <td>230000.0</td>\n",
       "      <td>Executive</td>\n",
       "    </tr>\n",
       "    <tr>\n",
       "      <th>5</th>\n",
       "      <td>Lukas</td>\n",
       "      <td>54.0</td>\n",
       "      <td>M</td>\n",
       "      <td>ML Engineer</td>\n",
       "      <td>135000.0</td>\n",
       "      <td>IT</td>\n",
       "    </tr>\n",
       "    <tr>\n",
       "      <th>3</th>\n",
       "      <td>Tracy</td>\n",
       "      <td>31.0</td>\n",
       "      <td>F</td>\n",
       "      <td>Data Scientist</td>\n",
       "      <td>110000.0</td>\n",
       "      <td>IT</td>\n",
       "    </tr>\n",
       "    <tr>\n",
       "      <th>0</th>\n",
       "      <td>John</td>\n",
       "      <td>25.0</td>\n",
       "      <td>M</td>\n",
       "      <td>Developer</td>\n",
       "      <td>100000.0</td>\n",
       "      <td>IT</td>\n",
       "    </tr>\n",
       "    <tr>\n",
       "      <th>1</th>\n",
       "      <td>Jane</td>\n",
       "      <td>27.0</td>\n",
       "      <td>F</td>\n",
       "      <td>Analyst</td>\n",
       "      <td>80000.0</td>\n",
       "      <td>IT</td>\n",
       "    </tr>\n",
       "    <tr>\n",
       "      <th>2</th>\n",
       "      <td>Billy</td>\n",
       "      <td>42.0</td>\n",
       "      <td>M</td>\n",
       "      <td>Admin</td>\n",
       "      <td>75000.0</td>\n",
       "      <td>Administration</td>\n",
       "    </tr>\n",
       "    <tr>\n",
       "      <th>4</th>\n",
       "      <td>Emily</td>\n",
       "      <td>22.0</td>\n",
       "      <td>F</td>\n",
       "      <td>Project Manager</td>\n",
       "      <td>75000.0</td>\n",
       "      <td>Communications</td>\n",
       "    </tr>\n",
       "  </tbody>\n",
       "</table>\n",
       "</div>"
      ],
      "text/plain": [
       "      name   age gender       profession    salary     departments\n",
       "6  Janelle  52.0      F              CIO  230000.0       Executive\n",
       "5    Lukas  54.0      M      ML Engineer  135000.0              IT\n",
       "3    Tracy  31.0      F   Data Scientist  110000.0              IT\n",
       "0     John  25.0      M        Developer  100000.0              IT\n",
       "1     Jane  27.0      F          Analyst   80000.0              IT\n",
       "2    Billy  42.0      M            Admin   75000.0  Administration\n",
       "4    Emily  22.0      F  Project Manager   75000.0  Communications"
      ]
     },
     "execution_count": 67,
     "metadata": {},
     "output_type": "execute_result"
    }
   ],
   "source": [
    "Q28 = Q26.sort_values(by='salary',ascending=False)\n",
    "Q28"
   ]
  },
  {
   "cell_type": "markdown",
   "metadata": {},
   "source": [
    "**Q29:** Using `value_counts()`, how many employees in the `Q28` DataFrame does each department have?  Save this as `Q29`."
   ]
  },
  {
   "cell_type": "code",
   "execution_count": 68,
   "metadata": {
    "execution": {
     "iopub.execute_input": "2023-05-17T20:06:48.350027Z",
     "iopub.status.busy": "2023-05-17T20:06:48.349011Z",
     "iopub.status.idle": "2023-05-17T20:06:48.359522Z",
     "shell.execute_reply": "2023-05-17T20:06:48.358518Z",
     "shell.execute_reply.started": "2023-05-17T20:06:48.349991Z"
    }
   },
   "outputs": [
    {
     "data": {
      "text/plain": [
       "IT                4\n",
       "Executive         1\n",
       "Administration    1\n",
       "Communications    1\n",
       "Name: departments, dtype: int64"
      ]
     },
     "execution_count": 68,
     "metadata": {},
     "output_type": "execute_result"
    }
   ],
   "source": [
    "Q29=Q28['departments'].value_counts()\n",
    "Q29"
   ]
  },
  {
   "cell_type": "markdown",
   "metadata": {},
   "source": [
    "**Q30:** Make a copy of the `Q28` DataFrame and save it as `Q30`.  Rename the `name` column in `Q30` to `employee_name`.  "
   ]
  },
  {
   "cell_type": "code",
   "execution_count": 69,
   "metadata": {
    "execution": {
     "iopub.execute_input": "2023-05-17T20:10:29.512947Z",
     "iopub.status.busy": "2023-05-17T20:10:29.512463Z",
     "iopub.status.idle": "2023-05-17T20:10:29.532054Z",
     "shell.execute_reply": "2023-05-17T20:10:29.531295Z",
     "shell.execute_reply.started": "2023-05-17T20:10:29.512909Z"
    }
   },
   "outputs": [
    {
     "data": {
      "text/html": [
       "<div>\n",
       "<style scoped>\n",
       "    .dataframe tbody tr th:only-of-type {\n",
       "        vertical-align: middle;\n",
       "    }\n",
       "\n",
       "    .dataframe tbody tr th {\n",
       "        vertical-align: top;\n",
       "    }\n",
       "\n",
       "    .dataframe thead th {\n",
       "        text-align: right;\n",
       "    }\n",
       "</style>\n",
       "<table border=\"1\" class=\"dataframe\">\n",
       "  <thead>\n",
       "    <tr style=\"text-align: right;\">\n",
       "      <th></th>\n",
       "      <th>employee_name</th>\n",
       "      <th>age</th>\n",
       "      <th>gender</th>\n",
       "      <th>profession</th>\n",
       "      <th>salary</th>\n",
       "      <th>departments</th>\n",
       "    </tr>\n",
       "  </thead>\n",
       "  <tbody>\n",
       "    <tr>\n",
       "      <th>6</th>\n",
       "      <td>Janelle</td>\n",
       "      <td>52.0</td>\n",
       "      <td>F</td>\n",
       "      <td>CIO</td>\n",
       "      <td>230000.0</td>\n",
       "      <td>Executive</td>\n",
       "    </tr>\n",
       "    <tr>\n",
       "      <th>5</th>\n",
       "      <td>Lukas</td>\n",
       "      <td>54.0</td>\n",
       "      <td>M</td>\n",
       "      <td>ML Engineer</td>\n",
       "      <td>135000.0</td>\n",
       "      <td>IT</td>\n",
       "    </tr>\n",
       "    <tr>\n",
       "      <th>3</th>\n",
       "      <td>Tracy</td>\n",
       "      <td>31.0</td>\n",
       "      <td>F</td>\n",
       "      <td>Data Scientist</td>\n",
       "      <td>110000.0</td>\n",
       "      <td>IT</td>\n",
       "    </tr>\n",
       "    <tr>\n",
       "      <th>0</th>\n",
       "      <td>John</td>\n",
       "      <td>25.0</td>\n",
       "      <td>M</td>\n",
       "      <td>Developer</td>\n",
       "      <td>100000.0</td>\n",
       "      <td>IT</td>\n",
       "    </tr>\n",
       "    <tr>\n",
       "      <th>1</th>\n",
       "      <td>Jane</td>\n",
       "      <td>27.0</td>\n",
       "      <td>F</td>\n",
       "      <td>Analyst</td>\n",
       "      <td>80000.0</td>\n",
       "      <td>IT</td>\n",
       "    </tr>\n",
       "    <tr>\n",
       "      <th>2</th>\n",
       "      <td>Billy</td>\n",
       "      <td>42.0</td>\n",
       "      <td>M</td>\n",
       "      <td>Admin</td>\n",
       "      <td>75000.0</td>\n",
       "      <td>Administration</td>\n",
       "    </tr>\n",
       "    <tr>\n",
       "      <th>4</th>\n",
       "      <td>Emily</td>\n",
       "      <td>22.0</td>\n",
       "      <td>F</td>\n",
       "      <td>Project Manager</td>\n",
       "      <td>75000.0</td>\n",
       "      <td>Communications</td>\n",
       "    </tr>\n",
       "  </tbody>\n",
       "</table>\n",
       "</div>"
      ],
      "text/plain": [
       "  employee_name   age gender       profession    salary     departments\n",
       "6       Janelle  52.0      F              CIO  230000.0       Executive\n",
       "5         Lukas  54.0      M      ML Engineer  135000.0              IT\n",
       "3         Tracy  31.0      F   Data Scientist  110000.0              IT\n",
       "0          John  25.0      M        Developer  100000.0              IT\n",
       "1          Jane  27.0      F          Analyst   80000.0              IT\n",
       "2         Billy  42.0      M            Admin   75000.0  Administration\n",
       "4         Emily  22.0      F  Project Manager   75000.0  Communications"
      ]
     },
     "execution_count": 69,
     "metadata": {},
     "output_type": "execute_result"
    }
   ],
   "source": [
    "Q30 = Q28.copy()\n",
    "Q30  = Q30.rename(columns={'name':'employee_name'})\n",
    "Q30"
   ]
  },
  {
   "cell_type": "markdown",
   "metadata": {},
   "source": []
  }
 ],
 "metadata": {
  "kernelspec": {
   "display_name": "Python 3 (ipykernel)",
   "language": "python",
   "name": "python3"
  },
  "language_info": {
   "codemirror_mode": {
    "name": "ipython",
    "version": 3
   },
   "file_extension": ".py",
   "mimetype": "text/x-python",
   "name": "python",
   "nbconvert_exporter": "python",
   "pygments_lexer": "ipython3",
   "version": "3.9.13"
  }
 },
 "nbformat": 4,
 "nbformat_minor": 4
}
